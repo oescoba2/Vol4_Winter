{
 "cells": [
  {
   "cell_type": "code",
   "execution_count": 3,
   "id": "c13ae61a-03fc-4dc2-bb94-fc1fb8b09f47",
   "metadata": {},
   "outputs": [],
   "source": [
    "from numpy.typing import ArrayLike\n",
    "from scipy.integrate import solve_ivp\n",
    "from scipy.interpolate import CubicSpline\n",
    "import matplotlib.pyplot as plt\n",
    "import numpy as np"
   ]
  },
  {
   "cell_type": "markdown",
   "id": "51224cb7",
   "metadata": {},
   "source": [
    "# Constants we have"
   ]
  },
  {
   "cell_type": "code",
   "execution_count": null,
   "id": "e8908e76",
   "metadata": {},
   "outputs": [],
   "source": [
    "# Rate of CD8+T-lysed tumor cell debris activation of CD8+ T-cells\n",
    "rho0 = 1.245e-2\n",
    "\n",
    "# Tumor size for half-maximal CD8+T-lysed debris CD8+ T activation\n",
    "alpha_0 = 2.5036e-3\n",
    "\n",
    "# Tumor size for half-maximal NK-lysed debirs NK activation\n",
    "alpha_1 = 2.5036*10 5\n",
    "\n",
    "# Rate of NK-lysed tumor cell debris activation of NK Cells\n",
    "rho1 = 6.68 * 10**(-2) \n",
    "\n",
    "# Rate of CD8+ T-cell death due to tumor interaction\n",
    "a4 = 3.422e-10 \n",
    "\n",
    "# Rate of activated CD8+ T-cell turnover\n",
    "k_cd = 9e-3\n",
    "\n",
    "# Rate of chemotherapy-induced tumor death\n",
    "a2 = 0.9\n",
    "\n",
    "# Michaelis Menten Kinetics\n",
    "i = 1\n",
    "\n",
    "# Max tumor population\n",
    "T_max = 2\n",
    "\n",
    "# Natural turnover rate of natural killer cells (2 weeks)\n",
    "k_NK = 1/14\n",
    "\n",
    "# Natural turnover rate for epithelial cells lining ducts (40yr women)\n",
    "k_N = 1/147\n",
    "\n",
    "# Rate of NK cell death due to tumor interaction 𝑐𝑒𝑙𝑙𝑠−1/𝐷𝑎𝑦−1\n",
    "a5 = 2.794*(10**(-13))\n",
    "\n",
    "# Max epithelial cell count\n",
    "N_max = T_max / (1/100)"
   ]
  },
  {
   "cell_type": "code",
   "execution_count": 17,
   "id": "6c2a6d22",
   "metadata": {},
   "outputs": [
    {
     "data": {
      "text/plain": [
       "3333333333.3333335"
      ]
     },
     "execution_count": 17,
     "metadata": {},
     "output_type": "execute_result"
    }
   ],
   "source": [
    "10**8 / (0.03)"
   ]
  },
  {
   "cell_type": "code",
   "execution_count": null,
   "id": "35fbc80e",
   "metadata": {},
   "outputs": [],
   "source": [
    "\n",
    "\n",
    "constants = [\n",
    "    alpha_0, alpha_1,\n",
    "    a0, a1, a2, a3, a4, a5,  # a0=a1\n",
    "    b_CD,         # comes after we get E_c\n",
    "    E_c, E_d,\n",
    "    g_T, g_N,     # Growth rates\n",
    "    i,\n",
    "    k_N, k_CD, k_NK,\n",
    "    N_max,\n",
    "    rho_0, rho_1,\n",
    "    r_NK, r_CD,\n",
    "    T_max]         # TODO: 60% thingy"
   ]
  },
  {
   "cell_type": "code",
   "execution_count": 4,
   "id": "2e080570-f6fb-431a-99d3-f63061bfb475",
   "metadata": {},
   "outputs": [],
   "source": [
    "def state_equations(t:float, y:ArrayLike, u_interpolation:CubicSpline, constants:tuple|list):\n",
    "    \"\"\"Define the state evolution equations of our system.\n",
    "\n",
    "    Parameters:\n",
    "        - t (float) : the time\n",
    "        - y (ArrayLike) : ndarray (4,) [T, N, CD, NK]\n",
    "        - u_interpolation : a CubicSpline object containing the \n",
    "                            values of the control u_interpolation(t) = [D_c(t), D_d(t)]\n",
    "    \n",
    "    Returns:\n",
    "    y_dot : ndarray (4,)\n",
    "        the derivative of the T cell concentration and the virus concentration at time t\n",
    "    \"\"\"\n",
    "\n",
    "    alpha_0, alpha_1, a0, a1, a2, a3, a4, a5, b_CD, E_c, E_d, g_T, g_N, i, k_N, k_CD, k_NK, N_max, rho0, rho1, r_NK, r_CD, T_max = constants\n",
    "    D_c, D_d = u_interpolation(t)\n",
    "    T, N, CD, NK = y\n",
    "\n",
    "    T_prime = g_T*T*np.log(T_max/T) - a1*N*T - a2*NK*T - a3*CD*T - (E_c*D_c + (4/5)*E_d*D_d)*T \n",
    "    N_prime = g_N * N * np.log(N_max/N) - k_N*N - a0*N*T\n",
    "    CD_prime = r_CD - k_CD*CD - rho0*CD*T**i/(alpha_0 + T**i) - a4*CD*T - b_CD*D_c*CD\n",
    "    NK_prime = r_NK - k_NK*NK - (rho1*NK*T**i / (alpha_1 + T**i)) - a5*NK*T\n",
    "\n",
    "    return np.array([T_prime, N_prime, CD_prime, NK_prime])"
   ]
  },
  {
   "cell_type": "code",
   "execution_count": 9,
   "id": "4b9e6364-233a-4333-b05a-1fc6fe686132",
   "metadata": {},
   "outputs": [],
   "source": [
    "def costate_equations(t, y, u_interpolation, state_solution, constants):\n",
    "    '''\n",
    "    Parameters\n",
    "    ---------------\n",
    "    t : float\n",
    "        the time\n",
    "    y : ndarray (2,)\n",
    "        the lambda values at time t\n",
    "    u_interpolation : CubicSpline\n",
    "        the values of the control u_interpolation(t) = [u1(t), u2(t)]\n",
    "    state_solution : result of solve_ivp on state_equations with\n",
    "    dense_output=True, i.e., state_solution.sol(t) = [T(t), V(t)]\n",
    "    constants : a_1, a_2, b_1, b_2, s_1, s_2, mu, k, g, c, B_1, B_2, A_1, A_2\n",
    "\n",
    "    Returns\n",
    "    --------------\n",
    "    y_dot : ndarray (4,)\n",
    "        the derivative of lambda at time t\n",
    "    '''\n",
    "\n",
    "    alpha_0, alpha_1, a0, a1, a2, a3, a4, a5, b_CD, E_c, E_d, g_T, g_N, i, k_N, k_CD, k_NK, N_max, rho0, rho1, r_NK, r_CD, T_max = constants\n",
    "    D_c, D_d = u_interpolation(t)\n",
    "    T, N, CD, NK = state_solution.sol(t)\n",
    "    p1, p2, p3, p4 = y\n",
    "\n",
    "    p1_prime = -(-p1*g_T + p1*g_T*np.log(T_max/T) - p1*a1*N - p1*a2*NK-p1*a3*CD-p1*(E_c*D_c + (4/5)*E_d*D_d) \n",
    "                 - p2*a0*N + (-(alpha_0 + T**i)*(i*p3*rho0*CD*T**(i-1)) + (p3*rho0*CD*T**i)*(i*T**(i-1)))/(alpha_0 + T**i)**2 - p3*a4*CD\n",
    "                 + (-(alpha_1 + T**i)*(i*p4*rho1*NK*T**(i-1)) + (p4*rho1*NK*T**i)*(i*T**(i-1)))/(alpha_1 + T**i)**2 -p4*a5*NK - 2*T)\n",
    "    p2_prime = -(-p1*a1*T + p2*g_N*np.log(N_max/N) - p2*g_N - p2*k_N - p2*a0*T)\n",
    "    p3_prime = -(-p1*a3*T - p3*k_CD - p3*(rho0*T**i)/(alpha_0 + T**i) - p3*a4*T - p3*b_CD*D_c)\n",
    "    p4_prime = -(-p1*a2*T - p4*k_NK - p4*(rho1*T**i)/(alpha_1 + T**i) - p4*a5*T)\n",
    "\n",
    "    return np.array([p1_prime, p2_prime, p3_prime, p4_prime])"
   ]
  }
 ],
 "metadata": {
  "kernelspec": {
   "display_name": "env",
   "language": "python",
   "name": "python3"
  },
  "language_info": {
   "codemirror_mode": {
    "name": "ipython",
    "version": 3
   },
   "file_extension": ".py",
   "mimetype": "text/x-python",
   "name": "python",
   "nbconvert_exporter": "python",
   "pygments_lexer": "ipython3",
   "version": "3.10.16"
  }
 },
 "nbformat": 4,
 "nbformat_minor": 5
}
