{
 "cells": [
  {
   "cell_type": "code",
   "execution_count": 1,
   "metadata": {},
   "outputs": [],
   "source": [
    "import numpy as np"
   ]
  },
  {
   "cell_type": "markdown",
   "metadata": {},
   "source": [
    "# Initial attempt to create initial value problem for breast cancer"
   ]
  },
  {
   "cell_type": "code",
   "execution_count": null,
   "metadata": {},
   "outputs": [],
   "source": [
    "def calculate_drug_concentration():\n",
    "    pass\n",
    "\n",
    "def cancer_ode(t, y):\n",
    "    # separate y\n",
    "    T, N, CD, NK = y\n",
    "\n",
    "    # import constants\n",
    "    g_T, g_N = 1, 1\n",
    "    T_max, N_max = 1, 1\n",
    "    a_0, a_1, a_2, a_3, a_4, a_5 = 1, 1, 1, 1, 1\n",
    "    E_c, E_d = 1, 1\n",
    "    k_N = 1\n",
    "    r_CD, k_CD = 1, 1\n",
    "    r_NK, k_NK = 1, 1\n",
    "    rho_0, alpha_0 = 1,1\n",
    "    rho_1, alpha_1 = 1,1\n",
    "    b_CD = 1\n",
    "    i = 2\n",
    "\n",
    "    # Need....\n",
    "    a_0, a_1, r_CD, r_NK, b_CD\n",
    "\n",
    "    D_c, D_d = calculate_drug_concentration()\n",
    "    \n",
    "    dT = (g_T * T * np.log(T_max / T) - a_1*N*T - a_2*NK*T - a_3*CD*T -\n",
    "        (E_c*D_c+(4/5)*E_d*D_d)*T)\n",
    "    dN = g_N*N*np.log(N_max / N) - k_N - a_0*N*T\n",
    "    dCD = r_CD - k_CD - (rho_0*CD*T**i)/(alpha_0 + T**i) - a_4*CD*T - b_CD*D_c*CD\n",
    "    dNK = r_NK - k_NK - (rho_1*NK*T**i)/(alpha_1 + T**i) - a_5*NK*T\n",
    "\n",
    "    return np.array([dT, dN, dCD, dNK])\n"
   ]
  },
  {
   "cell_type": "markdown",
   "metadata": {},
   "source": [
    "## Constants?"
   ]
  },
  {
   "cell_type": "code",
   "execution_count": null,
   "metadata": {},
   "outputs": [],
   "source": [
    "# import constants\n",
    "g_T, g_N = 1, 1\n",
    "T_max, N_max = 1, 1\n",
    "a_0, a_1, a_2, a_3, a_4 = 1, 1, 1, 1, 1\n",
    "E_c, E_d = 1, 1\n",
    "k_N = 1\n",
    "r_CD, k_CD = 1, 1\n",
    "r_NK, k_NK = 1, 1\n",
    "rho_0, alpha_0 = 1,1\n",
    "# From \n",
    "rho_1, alpha_1 = 1,1\n",
    "b_CD = 1\n",
    "i = 2\n",
    "# Rate of CD8+T-lysed tumor cell debris activation of CD8+ T-cells\n",
    "rho_0 = 1.245e-2\n",
    "\n",
    "# Tumor size for half-maximal CD8+T-lysed debris CD8+ T activation\n",
    "alpha_0 = 2.5036e-3\n",
    "\n",
    "# Tumor size for half-maximal NK-lysed debirs NK activation\n",
    "alpha_1 =  2.02e7 # 2.5036*10 previous value\n",
    "\n",
    "# Rate of NK-lysed tumor cell debris activation of NK Cells\n",
    "rho_1 = 1.25e-2 # 6.68 * 10**(-2) previous value\n",
    "\n",
    "# Rate of CD8+ T-cell death due to tumor interaction\n",
    "a_4 = 3.422e-10 \n",
    "\n",
    "# Rate of activated CD8+ T-cell turnover\n",
    "k_cd = 9e-3\n",
    "\n",
    "# Rate of chemotherapy-induced tumor death\n",
    "a_2 = 0.9\n",
    "\n",
    "# Michaelis Menten Kinetics\n",
    "i = 1\n",
    "\n",
    "# Max tumor population\n",
    "T_max = 2\n",
    "\n",
    "# Natural turnover rate of natural killer cells (2 weeks)\n",
    "k_NK = 1/14\n",
    "\n",
    "# Natural turnover rate for epithelial cells lining ducts (40yr women)\n",
    "k_N = 1/147\n",
    "\n",
    "# Rate of NK cell death due to tumor interaction 𝑐𝑒𝑙𝑙𝑠−1/𝐷𝑎𝑦−1\n",
    "a_5 = 2.794*(10**(-13))\n",
    "\n",
    "# Max epithelial cell count\n",
    "N_max = T_max / (1/100)"
   ]
  },
  {
   "cell_type": "code",
   "execution_count": 25,
   "metadata": {},
   "outputs": [
    {
     "name": "stdout",
     "output_type": "stream",
     "text": [
      "18095737137265.734\n"
     ]
    },
    {
     "data": {
      "image/png": "[encoded data removed]",
      "text/plain": [
       "<Figure size 640x480 with 1 Axes>"
      ]
     },
     "metadata": {},
     "output_type": "display_data"
    },
    {
     "name": "stdout",
     "output_type": "stream",
     "text": [
      "0.007921653181802194\n"
     ]
    }
   ],
   "source": [
    "import numpy as np\n",
    "from scipy.optimize import minimize\n",
    "from scipy.integrate import solve_ivp\n",
    "import matplotlib.pyplot as plt\n",
    "\n",
    "# Sample data (time in days, CD8+ % remaining)\n",
    "time_data = np.array([0, 2, 4])\n",
    "CD_data = np.array([2.2e7, 1.5e7, 1e7])  # Hypothetical recovery phase\n",
    "\n",
    "def ode(t, y, const):\n",
    "    drug, CD8 = y\n",
    "\n",
    "    drug_prime = - np.log(2)*drug / (1/4)\n",
    "    CD8_prime = - const*drug*CD8\n",
    "    return np.array([drug_prime, CD8_prime])\n",
    "init_dose = 20*10 # Really difficult to guess, but is 20g/kg of body weight for a tiny mouse so...\n",
    "\n",
    "def func(const):\n",
    "    sol = solve_ivp(ode, t_span=(0, 4), y0=np.array([init_dose, 2.2e7]), t_eval=np.array([0,2,4]), args=(const[0],))\n",
    "    return np.sum((CD_data - sol.y[1])**2)\n",
    "\n",
    "print(func(np.array([.01])))\n",
    "\n",
    "res = minimize(func, np.array([.1]) )\n",
    "best_const = res.x\n",
    "\n",
    "sol = solve_ivp(ode, (0, 4), np.array([init_dose, 2.2e7]), t_eval=np.linspace(0,4,100), args=(best_const[0],))\n",
    "\n",
    "plt.plot(sol.t, sol.y[1])\n",
    "plt.scatter(time_data, CD_data)\n",
    "plt.show()\n",
    "\n",
    "print(best_const[0])\n"
   ]
  },
  {
   "cell_type": "markdown",
   "metadata": {},
   "source": [
    "![alt text](image.png)"
   ]
  }
 ],
 "metadata": {
  "kernelspec": {
   "display_name": "Python 3",
   "language": "python",
   "name": "python3"
  },
  "language_info": {
   "codemirror_mode": {
    "name": "ipython",
    "version": 3
   },
   "file_extension": ".py",
   "mimetype": "text/x-python",
   "name": "python",
   "nbconvert_exporter": "python",
   "pygments_lexer": "ipython3",
   "version": "3.10.15"
  }
 },
 "nbformat": 4,
 "nbformat_minor": 2
}
