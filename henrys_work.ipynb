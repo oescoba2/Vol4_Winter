{
 "cells": [
  {
   "cell_type": "code",
   "execution_count": 1,
   "metadata": {},
   "outputs": [],
   "source": [
    "import numpy as np"
   ]
  },
  {
   "cell_type": "markdown",
   "metadata": {},
   "source": [
    "# Initial attempt to create initial value problem for breast cancer"
   ]
  },
  {
   "cell_type": "code",
   "execution_count": null,
   "metadata": {},
   "outputs": [],
   "source": [
    "def calculate_drug_concentration():\n",
    "    pass\n",
    "\n",
    "def cancer_ode(t, y):\n",
    "    # separate y\n",
    "    T, N, CD, NK = y\n",
    "\n",
    "    # import constants\n",
    "    g_T, g_N = 1, 1\n",
    "    T_max, N_max = 1, 1\n",
    "    a_0, a_1, a_2, a_3, a_4 = 1, 1, 1, 1, 1\n",
    "    E_c, E_d = 1, 1\n",
    "    k_N = 1\n",
    "    r_CD, k_CD = 1, 1\n",
    "    r_NK, k_NK = 1, 1\n",
    "    pho_0, alpha_0 = 1,1\n",
    "    pho_1, alpha_1 = 1,1\n",
    "    b_CD = 1\n",
    "    i = 2\n",
    "\n",
    "\n",
    "    D_c, D_d = calculate_drug_concentration()\n",
    "    \n",
    "    dT = (g_T * T * np.log(T_max / T) - a_1*N*T - a_2*NK*T - a_3*CD*T -\n",
    "        (E_c*D_c+(4/5)*E_d*D_d)*T)\n",
    "    dN = g_N*N*np.log(N_max / N) - k_N - a_0*N*T\n",
    "    dCD = r_CD - k_CD - (pho_0*CD*T**i)/(alpha_0 + T**i) - a_4*CD*T - b_CD*D_c*CD\n",
    "    dNK = r_NK - k_NK - (pho_1*NK*T**i)/(alpha_1 + T**i)\n",
    "\n",
    "    return np.array([dT, dN, dCD, dNK])\n"
   ]
  }
 ],
 "metadata": {
  "kernelspec": {
   "display_name": "Python 3",
   "language": "python",
   "name": "python3"
  },
  "language_info": {
   "codemirror_mode": {
    "name": "ipython",
    "version": 3
   },
   "file_extension": ".py",
   "mimetype": "text/x-python",
   "name": "python",
   "nbconvert_exporter": "python",
   "pygments_lexer": "ipython3",
   "version": "3.10.15"
  }
 },
 "nbformat": 4,
 "nbformat_minor": 2
}
